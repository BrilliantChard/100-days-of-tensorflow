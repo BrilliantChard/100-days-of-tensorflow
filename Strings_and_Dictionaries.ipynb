{
  "nbformat": 4,
  "nbformat_minor": 0,
  "metadata": {
    "colab": {
      "provenance": [],
      "authorship_tag": "ABX9TyNHV4uXqfkctbk62bCKO98w",
      "include_colab_link": true
    },
    "kernelspec": {
      "name": "python3",
      "display_name": "Python 3"
    },
    "language_info": {
      "name": "python"
    }
  },
  "cells": [
    {
      "cell_type": "markdown",
      "metadata": {
        "id": "view-in-github",
        "colab_type": "text"
      },
      "source": [
        "<a href=\"https://colab.research.google.com/github/BrilliantChard/Python-and-ML/blob/main/Strings_and_Dictionaries.ipynb\" target=\"_parent\"><img src=\"https://colab.research.google.com/assets/colab-badge.svg\" alt=\"Open In Colab\"/></a>"
      ]
    },
    {
      "cell_type": "code",
      "source": [
        "# Finding all the Capitalized characters in a sentence\n",
        "\n",
        "words = 'steganograpHy is the practicE of conceaLing a file, message, image, or video within another fiLe, message, image, Or video.'"
      ],
      "metadata": {
        "id": "XIHbkErjAYxO"
      },
      "execution_count": 59,
      "outputs": []
    },
    {
      "cell_type": "code",
      "source": [
        "resulting_word = []\n",
        "for char in words:\n",
        "  if char.isupper():\n",
        "    resulting_word.append(char)\n",
        "    print(char, end=' ')"
      ],
      "metadata": {
        "id": "nxhSAAFp98FI",
        "outputId": "ce3762a9-6687-4bd0-b4d3-c034ba8a79c6",
        "colab": {
          "base_uri": "https://localhost:8080/"
        }
      },
      "execution_count": 60,
      "outputs": [
        {
          "output_type": "stream",
          "name": "stdout",
          "text": [
            "H E L L O "
          ]
        }
      ]
    },
    {
      "cell_type": "code",
      "source": [
        "resulting_word"
      ],
      "metadata": {
        "id": "8PyErlqPAUGr",
        "outputId": "e9c890e2-f536-42d5-de2b-43f440a497f6",
        "colab": {
          "base_uri": "https://localhost:8080/"
        }
      },
      "execution_count": 61,
      "outputs": [
        {
          "output_type": "execute_result",
          "data": {
            "text/plain": [
              "['H', 'E', 'L', 'L', 'O']"
            ]
          },
          "metadata": {},
          "execution_count": 61
        }
      ]
    },
    {
      "cell_type": "code",
      "source": [
        "resulting_word[2]"
      ],
      "metadata": {
        "id": "N_uGrBwkAzv8",
        "outputId": "882304e5-763e-4734-89bb-fc6105cb665e",
        "colab": {
          "base_uri": "https://localhost:8080/",
          "height": 35
        }
      },
      "execution_count": 62,
      "outputs": [
        {
          "output_type": "execute_result",
          "data": {
            "text/plain": [
              "'L'"
            ],
            "application/vnd.google.colaboratory.intrinsic+json": {
              "type": "string"
            }
          },
          "metadata": {},
          "execution_count": 62
        }
      ]
    },
    {
      "cell_type": "code",
      "source": [],
      "metadata": {
        "id": "MsH6i9PxA2hh"
      },
      "execution_count": 62,
      "outputs": []
    },
    {
      "cell_type": "markdown",
      "source": [
        "# DICTIONARIES"
      ],
      "metadata": {
        "id": "AdJGKlNEF_uV"
      }
    },
    {
      "cell_type": "code",
      "source": [
        "numbers = {'one': 1, 'two': 2, 'three': 3, 'four': 4}"
      ],
      "metadata": {
        "id": "Y4Jikkb4GCq3"
      },
      "execution_count": 63,
      "outputs": []
    },
    {
      "cell_type": "code",
      "source": [
        "numbers[1]"
      ],
      "metadata": {
        "id": "_NXfgh7jGbsh",
        "outputId": "8f58bf61-6a20-4068-bf1e-7861dcb89022",
        "colab": {
          "base_uri": "https://localhost:8080/",
          "height": 141
        }
      },
      "execution_count": 64,
      "outputs": [
        {
          "output_type": "error",
          "ename": "KeyError",
          "evalue": "1",
          "traceback": [
            "\u001b[0;31m---------------------------------------------------------------------------\u001b[0m",
            "\u001b[0;31mKeyError\u001b[0m                                  Traceback (most recent call last)",
            "\u001b[0;32m/tmp/ipython-input-64-1343734504.py\u001b[0m in \u001b[0;36m<cell line: 0>\u001b[0;34m()\u001b[0m\n\u001b[0;32m----> 1\u001b[0;31m \u001b[0mnumbers\u001b[0m\u001b[0;34m[\u001b[0m\u001b[0;36m1\u001b[0m\u001b[0;34m]\u001b[0m\u001b[0;34m\u001b[0m\u001b[0;34m\u001b[0m\u001b[0m\n\u001b[0m",
            "\u001b[0;31mKeyError\u001b[0m: 1"
          ]
        }
      ]
    },
    {
      "cell_type": "code",
      "source": [
        "numbers['one']"
      ],
      "metadata": {
        "id": "nc9-vdjbGdlH",
        "outputId": "906c99e1-929a-45bf-9e57-5c7e19b395e1",
        "colab": {
          "base_uri": "https://localhost:8080/"
        }
      },
      "execution_count": 65,
      "outputs": [
        {
          "output_type": "execute_result",
          "data": {
            "text/plain": [
              "1"
            ]
          },
          "metadata": {},
          "execution_count": 65
        }
      ]
    },
    {
      "cell_type": "code",
      "source": [
        "planets = ['Mercury', 'Venus', 'Earth', 'Mars', 'Jupiter', 'Saturn', 'Uranus', 'Neptune']"
      ],
      "metadata": {
        "id": "guJML5WEGlSQ"
      },
      "execution_count": 66,
      "outputs": []
    },
    {
      "cell_type": "code",
      "source": [
        "print(planets, end= ' ')"
      ],
      "metadata": {
        "id": "w2D7tvKyG1M4",
        "outputId": "87cf4458-e067-437b-bb1e-c7dc65ba8c5b",
        "colab": {
          "base_uri": "https://localhost:8080/"
        }
      },
      "execution_count": 67,
      "outputs": [
        {
          "output_type": "stream",
          "name": "stdout",
          "text": [
            "['Mercury', 'Venus', 'Earth', 'Mars', 'Jupiter', 'Saturn', 'Uranus', 'Neptune'] "
          ]
        }
      ]
    },
    {
      "cell_type": "code",
      "source": [
        "planets_to_initial = {planet: planet[0] for planet in planets}\n",
        "planets_to_initial"
      ],
      "metadata": {
        "id": "r5tW30-GG5eL",
        "outputId": "41bf0aef-a565-4270-cff1-44944521762d",
        "colab": {
          "base_uri": "https://localhost:8080/"
        }
      },
      "execution_count": 68,
      "outputs": [
        {
          "output_type": "execute_result",
          "data": {
            "text/plain": [
              "{'Mercury': 'M',\n",
              " 'Venus': 'V',\n",
              " 'Earth': 'E',\n",
              " 'Mars': 'M',\n",
              " 'Jupiter': 'J',\n",
              " 'Saturn': 'S',\n",
              " 'Uranus': 'U',\n",
              " 'Neptune': 'N'}"
            ]
          },
          "metadata": {},
          "execution_count": 68
        }
      ]
    },
    {
      "cell_type": "code",
      "source": [
        "for planet, initial in planets_to_initial.items():\n",
        "  print(f'{planet} begins with {initial}')"
      ],
      "metadata": {
        "id": "gm8YiRiyG7IS",
        "outputId": "b4a3ad2e-ea08-4b9d-fd32-d124dd0ea671",
        "colab": {
          "base_uri": "https://localhost:8080/"
        }
      },
      "execution_count": 69,
      "outputs": [
        {
          "output_type": "stream",
          "name": "stdout",
          "text": [
            "Mercury begins with M\n",
            "Venus begins with V\n",
            "Earth begins with E\n",
            "Mars begins with M\n",
            "Jupiter begins with J\n",
            "Saturn begins with S\n",
            "Uranus begins with U\n",
            "Neptune begins with N\n"
          ]
        }
      ]
    },
    {
      "cell_type": "code",
      "source": [],
      "metadata": {
        "id": "iosGGgZ9IKqA"
      },
      "execution_count": 69,
      "outputs": []
    },
    {
      "cell_type": "markdown",
      "source": [
        "# TEST"
      ],
      "metadata": {
        "id": "tcrkNZsnJA23"
      }
    },
    {
      "cell_type": "code",
      "source": [
        "a = \"\"\n",
        "len(a)"
      ],
      "metadata": {
        "id": "7EmpXKhXJDeY",
        "outputId": "e32597eb-86ab-47c8-c51b-5f4cda30e49d",
        "colab": {
          "base_uri": "https://localhost:8080/"
        }
      },
      "execution_count": 70,
      "outputs": [
        {
          "output_type": "execute_result",
          "data": {
            "text/plain": [
              "0"
            ]
          },
          "metadata": {},
          "execution_count": 70
        }
      ]
    },
    {
      "cell_type": "code",
      "source": [
        "b = 'wertyuio'\n",
        "len(b)"
      ],
      "metadata": {
        "id": "vFNyiQWUJF2d",
        "outputId": "35be8535-400c-433d-bdff-3df46458a701",
        "colab": {
          "base_uri": "https://localhost:8080/"
        }
      },
      "execution_count": 71,
      "outputs": [
        {
          "output_type": "execute_result",
          "data": {
            "text/plain": [
              "8"
            ]
          },
          "metadata": {},
          "execution_count": 71
        }
      ]
    },
    {
      "cell_type": "code",
      "source": [
        "b.upper()"
      ],
      "metadata": {
        "id": "GAHPXzWcJIhd",
        "outputId": "09e9509d-bf81-4978-c409-cca5fb05140a",
        "colab": {
          "base_uri": "https://localhost:8080/",
          "height": 35
        }
      },
      "execution_count": 72,
      "outputs": [
        {
          "output_type": "execute_result",
          "data": {
            "text/plain": [
              "'WERTYUIO'"
            ],
            "application/vnd.google.colaboratory.intrinsic+json": {
              "type": "string"
            }
          },
          "metadata": {},
          "execution_count": 72
        }
      ]
    },
    {
      "cell_type": "code",
      "source": [
        "b[:5].upper()"
      ],
      "metadata": {
        "id": "GP5gN2gXJLPt",
        "outputId": "13eaae9e-41dc-4bbf-b3a1-23933bcfa6ae",
        "colab": {
          "base_uri": "https://localhost:8080/",
          "height": 35
        }
      },
      "execution_count": 73,
      "outputs": [
        {
          "output_type": "execute_result",
          "data": {
            "text/plain": [
              "'WERTY'"
            ],
            "application/vnd.google.colaboratory.intrinsic+json": {
              "type": "string"
            }
          },
          "metadata": {},
          "execution_count": 73
        }
      ]
    },
    {
      "cell_type": "code",
      "source": [
        "b = 'it\\'s ok'\n",
        "len(b)"
      ],
      "metadata": {
        "id": "sLyZgPXfJOHj",
        "outputId": "93a5ab6d-4f5e-42de-a13a-7d56877908d9",
        "colab": {
          "base_uri": "https://localhost:8080/"
        }
      },
      "execution_count": 74,
      "outputs": [
        {
          "output_type": "execute_result",
          "data": {
            "text/plain": [
              "7"
            ]
          },
          "metadata": {},
          "execution_count": 74
        }
      ]
    },
    {
      "cell_type": "code",
      "source": [
        "b[2]"
      ],
      "metadata": {
        "id": "mcECa8_QJdZY",
        "outputId": "6d6f9f82-07b0-41fb-bed8-1a2489889e8d",
        "colab": {
          "base_uri": "https://localhost:8080/",
          "height": 35
        }
      },
      "execution_count": 75,
      "outputs": [
        {
          "output_type": "execute_result",
          "data": {
            "text/plain": [
              "\"'\""
            ],
            "application/vnd.google.colaboratory.intrinsic+json": {
              "type": "string"
            }
          },
          "metadata": {},
          "execution_count": 75
        }
      ]
    },
    {
      "cell_type": "code",
      "source": [
        "d = \"\"\"hey\"\"\"\n",
        "length = len(d)\n",
        "length"
      ],
      "metadata": {
        "id": "Q6kN2rDQJgbN",
        "outputId": "3a9870ad-f9ec-460c-8eea-db8bd3166adf",
        "colab": {
          "base_uri": "https://localhost:8080/"
        }
      },
      "execution_count": 76,
      "outputs": [
        {
          "output_type": "execute_result",
          "data": {
            "text/plain": [
              "3"
            ]
          },
          "metadata": {},
          "execution_count": 76
        }
      ]
    },
    {
      "cell_type": "code",
      "source": [
        "e = '\\n'\n",
        "length = len(e)\n",
        "length"
      ],
      "metadata": {
        "id": "SLNWIFEIJsVb",
        "outputId": "ac49ac22-563d-49a6-8112-88f30137d6f3",
        "colab": {
          "base_uri": "https://localhost:8080/"
        }
      },
      "execution_count": 77,
      "outputs": [
        {
          "output_type": "execute_result",
          "data": {
            "text/plain": [
              "1"
            ]
          },
          "metadata": {},
          "execution_count": 77
        }
      ]
    },
    {
      "cell_type": "markdown",
      "source": [
        "A researcher has gathered thousands of news articles. But she wants to focus her attention on articles including a specific word.\n",
        "Do the task in a well documented manner\n",
        "\n",
        "  Your function should meet the following criteria:\n",
        "\n",
        "    Do not include documents where the keyword string shows up only as a part of a larger word.\n",
        "    For example, if she were looking for the keyword “closed”, you would not include the string “enclosed.”\n",
        "\n",
        "    She does not want you to distinguish upper case from lower case letters.\n",
        "    So the phrase “Closed the case.” would be included when the keyword is “closed”\n",
        "\n",
        "    Do not let periods or commas affect what is matched. “It is closed.” would be included when the keyword is “closed”.\n",
        "    But you can assume there are no other types of punctuation."
      ],
      "metadata": {
        "id": "2pc87VR872Lf"
      }
    },
    {
      "cell_type": "code",
      "source": [
        "doc_list = [\"The Learn Python Challenge Casino.\", \"They bought a car\", \"Casinoville\"]\n",
        "\n",
        "\n",
        "def word_search(doc_list, keyword):\n",
        "\n",
        "  # list to hold the indices of matching documents\n",
        "  word = []\n",
        "\n",
        "  # Iterate through the indices (i) and elements (doc) of documents\n",
        "  for i, doc in enumerate(doc_list):\n",
        "\n",
        "    # Split the string doc into a list of words (according to whitespace)\n",
        "    tokens = doc.split()\n",
        "\n",
        "    # Make a transformed list where we 'normalize' each word to facilitate matching.\n",
        "    # Periods and commas are removed from the end of each word, and it's set to all lowercase.\n",
        "\n",
        "    normalized = [token.rstrip('.,').lower() for token in tokens]\n",
        "\n",
        "    # Is there a match? If so, update the list of matching indices.\n",
        "    if keyword.lower() in normalized:\n",
        "      word.append(i)\n",
        "\n",
        "  return word\n",
        "\n",
        "word_search(doc_list, keyword= 'Casino')"
      ],
      "metadata": {
        "id": "V4iJmUaz8SgG",
        "outputId": "2e08b6fe-dff5-48ed-85ec-af98900282da",
        "colab": {
          "base_uri": "https://localhost:8080/"
        }
      },
      "execution_count": 19,
      "outputs": [
        {
          "output_type": "execute_result",
          "data": {
            "text/plain": [
              "[0]"
            ]
          },
          "metadata": {},
          "execution_count": 19
        }
      ]
    },
    {
      "cell_type": "code",
      "source": [
        "doc_list = [\"The Learn Python Challenge Casino.\", \"They bought a car\", \"Casinoville\"]\n",
        "\n",
        "\n",
        "def word_search(doc_list, keyword):\n",
        "\n",
        "  # list to hold the indices of matching documents\n",
        "  word = []\n",
        "\n",
        "  # Iterate through the indices (i) and elements (doc) of documents\n",
        "  for doc in doc_list:\n",
        "\n",
        "    # Split the string doc into a list of words (according to whitespace)\n",
        "    tokens = doc.split()\n",
        "\n",
        "    # Make a transformed list where we 'normalize' each word to facilitate matching.\n",
        "    # Periods and commas are removed from the end of each word, and it's set to all lowercase.\n",
        "\n",
        "    normalized = [token.rstrip('.,').lower() for token in tokens]\n",
        "\n",
        "    # Is there a match? If so, update the list of matching indices.\n",
        "    if keyword.lower() in normalized:\n",
        "      word.append(doc)\n",
        "\n",
        "  return word\n",
        "\n",
        "word_search(doc_list, keyword= 'Casino')"
      ],
      "metadata": {
        "id": "wGwN2ebz_RLa",
        "outputId": "33a43a25-a00c-40eb-f8dc-0b0dc0f38303",
        "colab": {
          "base_uri": "https://localhost:8080/"
        }
      },
      "execution_count": 20,
      "outputs": [
        {
          "output_type": "execute_result",
          "data": {
            "text/plain": [
              "['The Learn Python Challenge Casino.']"
            ]
          },
          "metadata": {},
          "execution_count": 20
        }
      ]
    },
    {
      "cell_type": "markdown",
      "source": [
        "Now the researcher wants to supply multiple keywords to search for. Complete the function below to help her."
      ],
      "metadata": {
        "id": "o5XUWAoHBKaI"
      }
    },
    {
      "cell_type": "code",
      "source": [
        "def multi_word_search(doc_list, keywords):\n",
        "    \"\"\"\n",
        "    Takes list of documents (each document is a string) and a list of keywords.\n",
        "    Returns a dictionary where each key is a keyword, and the value is a list of indices\n",
        "    (from doc_list) of the documents containing that keyword\n",
        "\n",
        "    >>> doc_list = [\"The Learn Python Challenge Casino.\", \"They bought a car and a casino\", \"Casinoville\"]\n",
        "    >>> keywords = ['casino', 'they']\n",
        "    >>> multi_word_search(doc_list, keywords)\n",
        "    {'casino': [0, 1], 'they': [1]}\n",
        "    \"\"\"\n",
        "    keyword_to_indices = {}\n",
        "    for keyword in keywords:\n",
        "        keyword_to_indices[keyword] = word_search(doc_list, keyword)\n",
        "    return keyword_to_indices"
      ],
      "metadata": {
        "id": "cdIVchz0BLlf"
      },
      "execution_count": 22,
      "outputs": []
    },
    {
      "cell_type": "code",
      "source": [],
      "metadata": {
        "id": "AQVEou89BO4w"
      },
      "execution_count": null,
      "outputs": []
    }
  ]
}